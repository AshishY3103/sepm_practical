{
 "cells": [
  {
   "cell_type": "code",
   "execution_count": 27,
   "id": "02b3f132",
   "metadata": {},
   "outputs": [],
   "source": [
    "import pandas as pd\n",
    "import numpy as np\n",
    "import matplotlib.pyplot as plt\n",
    "import seaborn as sns\n",
    "from sklearn.datasets import load_iris\n",
    "from sklearn.preprocessing import StandardScaler\n",
    "from sklearn.decomposition import PCA\n"
   ]
  },
  {
   "cell_type": "code",
   "execution_count": 28,
   "id": "69db0970",
   "metadata": {},
   "outputs": [],
   "source": [
    "iris = load_iris()\n",
    "X = iris.data\n",
    "feature_names = iris.feature_names"
   ]
  },
  {
   "cell_type": "code",
   "execution_count": 29,
   "id": "d27ca912",
   "metadata": {},
   "outputs": [],
   "source": [
    "scaler = StandardScaler()\n",
    "X_scaled = scaler.fit_transform(X)"
   ]
  },
  {
   "cell_type": "code",
   "execution_count": 30,
   "id": "32f630c9",
   "metadata": {},
   "outputs": [],
   "source": [
    "cov_matrix = np.cov(X_scaled.T)"
   ]
  },
  {
   "cell_type": "code",
   "execution_count": 31,
   "id": "f6a28fe1",
   "metadata": {},
   "outputs": [
    {
     "name": "stdout",
     "output_type": "stream",
     "text": [
      "Eigen values:\n",
      " [2.93808505 0.9201649  0.14774182 0.02085386]\n",
      "Eigen vectors:\n",
      " [[ 0.52106591 -0.37741762 -0.71956635  0.26128628]\n",
      " [-0.26934744 -0.92329566  0.24438178 -0.12350962]\n",
      " [ 0.5804131  -0.02449161  0.14212637 -0.80144925]\n",
      " [ 0.56485654 -0.06694199  0.63427274  0.52359713]]\n"
     ]
    }
   ],
   "source": [
    "eigenvalues, eigenvectors = np.linalg.eig(cov_matrix)\n",
    "print('Eigen values:\\n', eigenvalues)\n",
    "print('Eigen vectors:\\n', eigenvectors)"
   ]
  },
  {
   "cell_type": "code",
   "execution_count": 32,
   "id": "51e66368",
   "metadata": {},
   "outputs": [],
   "source": [
    "idx = eigenvalues.argsort()[::-1]\n",
    "eigenvalues = eigenvalues[idx]\n",
    "eigenvectors = eigenvectors[:, idx]"
   ]
  },
  {
   "cell_type": "code",
   "execution_count": 33,
   "id": "0b4bf9ce",
   "metadata": {},
   "outputs": [
    {
     "name": "stdout",
     "output_type": "stream",
     "text": [
      "Explained variance:\n",
      " [0.72962445 0.95813207 0.99482129 1.        ]\n"
     ]
    }
   ],
   "source": [
    "explained_var = np.cumsum(eigenvalues) / np.sum(eigenvalues)\n",
    "print('Explained variance:\\n', explained_var)"
   ]
  },
  {
   "cell_type": "code",
   "execution_count": 34,
   "id": "a28c9cd3",
   "metadata": {},
   "outputs": [
    {
     "name": "stdout",
     "output_type": "stream",
     "text": [
      "Number of components to explain at least 95% variance: 2\n"
     ]
    }
   ],
   "source": [
    "n_components = np.argmax(explained_var >= 0.95) + 1\n",
    "print('Number of components to explain at least 95% variance:', n_components)"
   ]
  },
  {
   "cell_type": "code",
   "execution_count": 35,
   "id": "5f47e924",
   "metadata": {},
   "outputs": [
    {
     "name": "stdout",
     "output_type": "stream",
     "text": [
      "PCA Component Matrix:\n",
      "         PC1       PC2\n",
      "0  0.521066 -0.377418\n",
      "1 -0.269347 -0.923296\n",
      "2  0.580413 -0.024492\n",
      "3  0.564857 -0.066942\n"
     ]
    }
   ],
   "source": [
    "pca_components = eigenvectors[:, :n_components]\n",
    "pca_component_matrix = pd.DataFrame(pca_components, columns=[f'PC{i+1}' for i in range(n_components)])\n",
    "print('PCA Component Matrix:\\n', pca_component_matrix)"
   ]
  },
  {
   "cell_type": "code",
   "execution_count": 36,
   "id": "867bf205",
   "metadata": {},
   "outputs": [
    {
     "data": {
      "image/png": "[encoded data removed]",
      "text/plain": [
       "<Figure size 800x600 with 2 Axes>"
      ]
     },
     "metadata": {},
     "output_type": "display_data"
    }
   ],
   "source": [
    "plt.figure(figsize=(8, 6))\n",
    "sns.heatmap(pca_component_matrix, cmap='coolwarm', annot=True, fmt=\".2f\")\n",
    "plt.title('PCA Component Matrix')\n",
    "plt.show()"
   ]
  },
  {
   "cell_type": "code",
   "execution_count": 37,
   "id": "2e96ae70",
   "metadata": {},
   "outputs": [
    {
     "name": "stdout",
     "output_type": "stream",
     "text": [
      "Transformed DataFrame:\n",
      "          PCA1      PCA2\n",
      "0   -2.264703 -0.480027\n",
      "1   -2.080961  0.674134\n",
      "2   -2.364229  0.341908\n",
      "3   -2.299384  0.597395\n",
      "4   -2.389842 -0.646835\n",
      "..        ...       ...\n",
      "145  1.870503 -0.386966\n",
      "146  1.564580  0.896687\n",
      "147  1.521170 -0.269069\n",
      "148  1.372788 -1.011254\n",
      "149  0.960656  0.024332\n",
      "\n",
      "[150 rows x 2 columns]\n"
     ]
    }
   ],
   "source": [
    "Z_pca = X_scaled @ pca_components\n",
    "\n",
    "Z_pca_df = pd.DataFrame(Z_pca, columns=[f'PCA{i+1}' for i in range(n_components)])\n",
    "print('Transformed DataFrame:\\n', Z_pca_df)"
   ]
  },
  {
   "cell_type": "code",
   "execution_count": 38,
   "id": "e3104deb",
   "metadata": {},
   "outputs": [
    {
     "name": "stdout",
     "output_type": "stream",
     "text": [
      "PCA using scikit-learn:\n",
      " [[-2.26470281  0.4800266 ]\n",
      " [-2.08096115 -0.67413356]\n",
      " [-2.36422905 -0.34190802]\n",
      " [-2.29938422 -0.59739451]\n",
      " [-2.38984217  0.64683538]\n",
      " [-2.07563095  1.48917752]\n",
      " [-2.44402884  0.0476442 ]\n",
      " [-2.23284716  0.22314807]\n",
      " [-2.33464048 -1.11532768]\n",
      " [-2.18432817 -0.46901356]\n",
      " [-2.1663101   1.04369065]\n",
      " [-2.32613087  0.13307834]\n",
      " [-2.2184509  -0.72867617]\n",
      " [-2.6331007  -0.96150673]\n",
      " [-2.1987406   1.86005711]\n",
      " [-2.26221453  2.68628449]\n",
      " [-2.2075877   1.48360936]\n",
      " [-2.19034951  0.48883832]\n",
      " [-1.898572    1.40501879]\n",
      " [-2.34336905  1.12784938]\n",
      " [-1.914323    0.40885571]\n",
      " [-2.20701284  0.92412143]\n",
      " [-2.7743447   0.45834367]\n",
      " [-1.81866953  0.08555853]\n",
      " [-2.22716331  0.13725446]\n",
      " [-1.95184633 -0.62561859]\n",
      " [-2.05115137  0.24216355]\n",
      " [-2.16857717  0.52714953]\n",
      " [-2.13956345  0.31321781]\n",
      " [-2.26526149 -0.3377319 ]\n",
      " [-2.14012214 -0.50454069]\n",
      " [-1.83159477  0.42369507]\n",
      " [-2.61494794  1.79357586]\n",
      " [-2.44617739  2.15072788]\n",
      " [-2.10997488 -0.46020184]\n",
      " [-2.2078089  -0.2061074 ]\n",
      " [-2.04514621  0.66155811]\n",
      " [-2.52733191  0.59229277]\n",
      " [-2.42963258 -0.90418004]\n",
      " [-2.16971071  0.26887896]\n",
      " [-2.28647514  0.44171539]\n",
      " [-1.85812246 -2.33741516]\n",
      " [-2.5536384  -0.47910069]\n",
      " [-1.96444768  0.47232667]\n",
      " [-2.13705901  1.14222926]\n",
      " [-2.0697443  -0.71105273]\n",
      " [-2.38473317  1.1204297 ]\n",
      " [-2.39437631 -0.38624687]\n",
      " [-2.22944655  0.99795976]\n",
      " [-2.20383344  0.00921636]\n",
      " [ 1.10178118  0.86297242]\n",
      " [ 0.73133743  0.59461473]\n",
      " [ 1.24097932  0.61629765]\n",
      " [ 0.40748306 -1.75440399]\n",
      " [ 1.0754747  -0.20842105]\n",
      " [ 0.38868734 -0.59328364]\n",
      " [ 0.74652974  0.77301931]\n",
      " [-0.48732274 -1.85242909]\n",
      " [ 0.92790164  0.03222608]\n",
      " [ 0.01142619 -1.03401828]\n",
      " [-0.11019628 -2.65407282]\n",
      " [ 0.44069345 -0.06329519]\n",
      " [ 0.56210831 -1.76472438]\n",
      " [ 0.71956189 -0.18622461]\n",
      " [-0.0333547  -0.43900321]\n",
      " [ 0.87540719  0.50906396]\n",
      " [ 0.35025167 -0.19631173]\n",
      " [ 0.15881005 -0.79209574]\n",
      " [ 1.22509363 -1.6222438 ]\n",
      " [ 0.1649179  -1.30260923]\n",
      " [ 0.73768265  0.39657156]\n",
      " [ 0.47628719 -0.41732028]\n",
      " [ 1.2341781  -0.93332573]\n",
      " [ 0.6328582  -0.41638772]\n",
      " [ 0.70266118 -0.06341182]\n",
      " [ 0.87427365  0.25079339]\n",
      " [ 1.25650912 -0.07725602]\n",
      " [ 1.35840512  0.33131168]\n",
      " [ 0.66480037 -0.22592785]\n",
      " [-0.04025861 -1.05871855]\n",
      " [ 0.13079518 -1.56227183]\n",
      " [ 0.02345269 -1.57247559]\n",
      " [ 0.24153827 -0.77725638]\n",
      " [ 1.06109461 -0.63384324]\n",
      " [ 0.22397877 -0.28777351]\n",
      " [ 0.42913912  0.84558224]\n",
      " [ 1.04872805  0.5220518 ]\n",
      " [ 1.04453138 -1.38298872]\n",
      " [ 0.06958832 -0.21950333]\n",
      " [ 0.28347724 -1.32932464]\n",
      " [ 0.27907778 -1.12002852]\n",
      " [ 0.62456979  0.02492303]\n",
      " [ 0.33653037 -0.98840402]\n",
      " [-0.36218338 -2.01923787]\n",
      " [ 0.28858624 -0.85573032]\n",
      " [ 0.09136066 -0.18119213]\n",
      " [ 0.22771687 -0.38492008]\n",
      " [ 0.57638829 -0.1548736 ]\n",
      " [-0.44766702 -1.54379203]\n",
      " [ 0.25673059 -0.5988518 ]\n",
      " [ 1.84456887  0.87042131]\n",
      " [ 1.15788161 -0.69886986]\n",
      " [ 2.20526679  0.56201048]\n",
      " [ 1.44015066 -0.04698759]\n",
      " [ 1.86781222  0.29504482]\n",
      " [ 2.75187334  0.8004092 ]\n",
      " [ 0.36701769 -1.56150289]\n",
      " [ 2.30243944  0.42006558]\n",
      " [ 2.00668647 -0.71143865]\n",
      " [ 2.25977735  1.92101038]\n",
      " [ 1.36417549  0.69275645]\n",
      " [ 1.60267867 -0.42170045]\n",
      " [ 1.8839007   0.41924965]\n",
      " [ 1.2601151  -1.16226042]\n",
      " [ 1.4676452  -0.44227159]\n",
      " [ 1.59007732  0.67624481]\n",
      " [ 1.47143146  0.25562182]\n",
      " [ 2.42632899  2.55666125]\n",
      " [ 3.31069558  0.01778095]\n",
      " [ 1.26376667 -1.70674538]\n",
      " [ 2.0377163   0.91046741]\n",
      " [ 0.97798073 -0.57176432]\n",
      " [ 2.89765149  0.41364106]\n",
      " [ 1.33323218 -0.48181122]\n",
      " [ 1.7007339   1.01392187]\n",
      " [ 1.95432671  1.0077776 ]\n",
      " [ 1.17510363 -0.31639447]\n",
      " [ 1.02095055  0.06434603]\n",
      " [ 1.78834992 -0.18736121]\n",
      " [ 1.86364755  0.56229073]\n",
      " [ 2.43595373  0.25928443]\n",
      " [ 2.30492772  2.62632347]\n",
      " [ 1.86270322 -0.17854949]\n",
      " [ 1.11414774 -0.29292262]\n",
      " [ 1.2024733  -0.81131527]\n",
      " [ 2.79877045  0.85680333]\n",
      " [ 1.57625591  1.06858111]\n",
      " [ 1.3462921   0.42243061]\n",
      " [ 0.92482492  0.0172231 ]\n",
      " [ 1.85204505  0.67612817]\n",
      " [ 2.01481043  0.61388564]\n",
      " [ 1.90178409  0.68957549]\n",
      " [ 1.15788161 -0.69886986]\n",
      " [ 2.04055823  0.8675206 ]\n",
      " [ 1.9981471   1.04916875]\n",
      " [ 1.87050329  0.38696608]\n",
      " [ 1.56458048 -0.89668681]\n",
      " [ 1.5211705   0.26906914]\n",
      " [ 1.37278779  1.01125442]\n",
      " [ 0.96065603 -0.02433167]]\n"
     ]
    }
   ],
   "source": [
    "pca_sklearn = PCA(n_components=n_components)\n",
    "X_pca_sklearn = pca_sklearn.fit_transform(X_scaled)\n",
    "print('PCA using scikit-learn:\\n', X_pca_sklearn)"
   ]
  }
 ],
 "metadata": {
  "kernelspec": {
   "display_name": "Python 3 (ipykernel)",
   "language": "python",
   "name": "python3"
  },
  "language_info": {
   "codemirror_mode": {
    "name": "ipython",
    "version": 3
   },
   "file_extension": ".py",
   "mimetype": "text/x-python",
   "name": "python",
   "nbconvert_exporter": "python",
   "pygments_lexer": "ipython3",
   "version": "3.11.5"
  }
 },
 "nbformat": 4,
 "nbformat_minor": 5
}
